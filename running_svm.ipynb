{
 "cells": [
  {
   "cell_type": "markdown",
   "metadata": {},
   "source": [
    "# Running SVM with Direct Column Selection\n",
    "\n",
    "This notebook runs the SVM training directly on the markup_data.csv file by selecting only the required columns during runtime, without creating a separate sample file."
   ]
  },
  {
   "cell_type": "markdown",
   "metadata": {},
   "source": [
    "## 1. Import Required Libraries"
   ]
  },
  {
   "cell_type": "code",
   "execution_count": 10,
   "metadata": {},
   "outputs": [],
   "source": [
    "import sys\n",
    "import os\n",
    "import subprocess\n",
    "import re\n",
    "import json\n",
    "import shutil\n",
    "import pandas as pd\n",
    "import matplotlib.pyplot as plt\n",
    "import seaborn as sns\n",
    "import tempfile\n",
    "\n",
    "# Set the style for plots\n",
    "sns.set(style=\"whitegrid\")"
   ]
  },
  {
   "cell_type": "markdown",
   "metadata": {},
   "source": [
    "## 2. Check the Current Working Directory"
   ]
  },
  {
   "cell_type": "code",
   "execution_count": 11,
   "metadata": {},
   "outputs": [
    {
     "name": "stdout",
     "output_type": "stream",
     "text": [
      "Current working directory: d:\\paper\\last_submit\n",
      "\n",
      "Files in current directory:\n",
      " Volume in drive D has no label.\n",
      " Volume Serial Number is 187B-B85F\n",
      "\n",
      " Directory of d:\\paper\\last_submit\n",
      "\n",
      "05/06/2025  02:25 AM    <DIR>          .\n",
      "05/06/2025  02:21 AM    <DIR>          ..\n",
      "05/06/2025  02:21 AM               342 .gitignore\n",
      "05/06/2025  02:21 AM             9,388 attention_rnn_train.py\n",
      "05/06/2025  02:21 AM    <DIR>          common\n",
      "05/06/2025  02:28 AM    <DIR>          data\n",
      "05/06/2025  02:25 AM    <DIR>          graph\n",
      "05/06/2025  02:21 AM             8,905 hierarchy_svm_svm.py\n",
      "05/06/2025  02:25 AM    <DIR>          models\n",
      "05/06/2025  02:21 AM               623 README.md\n",
      "05/06/2025  02:15 AM                69 requirements.txt\n",
      "05/06/2025  02:27 AM            17,622 running_svm.ipynb\n",
      "05/06/2025  02:21 AM             6,508 svm_augment_train.py\n",
      "05/06/2025  02:21 AM             6,588 svm_for_semi.py\n",
      "05/06/2025  02:21 AM             6,356 svm_hyperparam_train.py\n",
      "05/06/2025  02:15 AM             4,518 SVM_README.md\n",
      "05/06/2025  02:26 AM             5,357 svm_train.py\n",
      "05/06/2025  02:25 AM             5,724 svm_train.py.bak\n",
      "05/06/2025  02:21 AM             1,557 train_bpe_tokenizer.py\n",
      "              13 File(s)         73,557 bytes\n",
      "               6 Dir(s)  133,508,558,848 bytes free\n"
     ]
    }
   ],
   "source": [
    "print(\"Current working directory:\", os.getcwd())\n",
    "print(\"\\nFiles in current directory:\")\n",
    "!dir"
   ]
  },
  {
   "cell_type": "markdown",
   "metadata": {},
   "source": [
    "## 3. Set Configuration Parameters"
   ]
  },
  {
   "cell_type": "code",
   "execution_count": 12,
   "metadata": {},
   "outputs": [
    {
     "name": "stdout",
     "output_type": "stream",
     "text": [
      "Graph Version: 1\n",
      "Original Dataset Path: data/markup_data.csv\n",
      "Number of Trials: 0\n",
      "Model Directory: ../models/svm_linear_search_graph_v1.sav\n",
      "TF-IDF Directory: ../models/tfidf_hyper_svm_graph_v1.pickle\n"
     ]
    }
   ],
   "source": [
    "# Set the parameters for the script\n",
    "GRAPH_VER = \"1\"\n",
    "ORIGINAL_DATASET_PATH = \"data/markup_data.csv\"  # Path to the original markup data\n",
    "N_TRIALS = 0  # Use default hyperparameters\n",
    "\n",
    "# Define model paths\n",
    "MODEL_DIR = f\"../models/svm_linear_search_graph_v{GRAPH_VER}.sav\"\n",
    "TFIDF_DIR = f\"../models/tfidf_hyper_svm_graph_v{GRAPH_VER}.pickle\"\n",
    "\n",
    "print(f\"Graph Version: {GRAPH_VER}\")\n",
    "print(f\"Original Dataset Path: {ORIGINAL_DATASET_PATH}\")\n",
    "print(f\"Number of Trials: {N_TRIALS}\")\n",
    "print(f\"Model Directory: {MODEL_DIR}\")\n",
    "print(f\"TF-IDF Directory: {TFIDF_DIR}\")"
   ]
  },
  {
   "cell_type": "markdown",
   "metadata": {},
   "source": [
    "## 4. Create Required Directories and Files"
   ]
  },
  {
   "cell_type": "code",
   "execution_count": 13,
   "metadata": {},
   "outputs": [
    {
     "name": "stdout",
     "output_type": "stream",
     "text": [
      "Graph file already exists: graph/graph_v1.txt\n",
      "Copied graph file to: ../graph/graph_v1.txt\n",
      "Original dataset exists: data/markup_data.csv (Size: 2.20 MB)\n",
      "\n",
      "Directories and files are ready.\n"
     ]
    }
   ],
   "source": [
    "# Create directories if they don't exist\n",
    "os.makedirs(\"graph\", exist_ok=True)\n",
    "os.makedirs(\"models\", exist_ok=True)\n",
    "os.makedirs(\"data\", exist_ok=True)\n",
    "os.makedirs(\"../graph\", exist_ok=True)  # Create parent directory for the script's expected path\n",
    "os.makedirs(\"../models\", exist_ok=True)  # Create parent directory for the script's expected path\n",
    "\n",
    "# Create a sample graph file\n",
    "graph_file_path = f\"graph/graph_v{GRAPH_VER}.txt\"\n",
    "parent_graph_path = f\"../graph/graph_v{GRAPH_VER}.txt\"\n",
    "\n",
    "if not os.path.exists(graph_file_path):\n",
    "    graph_data = {\n",
    "        \"class\": {\"id\": 1, \"name\": \"class\"},\n",
    "        \"function\": {\"id\": 2, \"name\": \"function\"},\n",
    "        \"variable\": {\"id\": 3, \"name\": \"variable\"},\n",
    "        \"loop\": {\"id\": 4, \"name\": \"loop\"},\n",
    "        \"condition\": {\"id\": 5, \"name\": \"condition\"}\n",
    "    }\n",
    "    with open(graph_file_path, \"w\") as f:\n",
    "        json.dump(graph_data, f, indent=2)\n",
    "    print(f\"Created graph file: {graph_file_path}\")\n",
    "else:\n",
    "    print(f\"Graph file already exists: {graph_file_path}\")\n",
    "\n",
    "# Copy the graph file to the parent directory where the script expects it\n",
    "shutil.copy2(graph_file_path, parent_graph_path)\n",
    "print(f\"Copied graph file to: {parent_graph_path}\")\n",
    "\n",
    "# Check if the original dataset exists\n",
    "if os.path.exists(ORIGINAL_DATASET_PATH):\n",
    "    # Get file size in MB\n",
    "    file_size = os.path.getsize(ORIGINAL_DATASET_PATH) / (1024 * 1024)\n",
    "    print(f\"Original dataset exists: {ORIGINAL_DATASET_PATH} (Size: {file_size:.2f} MB)\")\n",
    "else:\n",
    "    print(f\"Original dataset does not exist: {ORIGINAL_DATASET_PATH}\")\n",
    "    print(\"Please make sure the markup_data.csv file is in the data directory.\")\n",
    "\n",
    "print(\"\\nDirectories and files are ready.\")"
   ]
  },
  {
   "cell_type": "markdown",
   "metadata": {},
   "source": [
    "## 5. Read and Process the Original Dataset"
   ]
  },
  {
   "cell_type": "code",
   "execution_count": 14,
   "metadata": {},
   "outputs": [
    {
     "name": "stdout",
     "output_type": "stream",
     "text": [
      "Reading original dataset: data/markup_data.csv\n",
      "Successfully read the original dataset.\n",
      "\n",
      "Original dataset shape: (7947, 5)\n",
      "\n",
      "Columns in the original dataset:\n",
      "- Unnamed: 0\n",
      "- code_block\n",
      "- too_long\n",
      "- marks\n",
      "- graph_vertex_id\n",
      "\n",
      "Selecting only 'code_block' and 'graph_vertex_id' columns...\n",
      "Selected dataset shape: (7947, 2)\n",
      "\n",
      "First 5 rows of the selected columns:\n"
     ]
    },
    {
     "data": {
      "text/html": [
       "<div>\n",
       "<style scoped>\n",
       "    .dataframe tbody tr th:only-of-type {\n",
       "        vertical-align: middle;\n",
       "    }\n",
       "\n",
       "    .dataframe tbody tr th {\n",
       "        vertical-align: top;\n",
       "    }\n",
       "\n",
       "    .dataframe thead th {\n",
       "        text-align: right;\n",
       "    }\n",
       "</style>\n",
       "<table border=\"1\" class=\"dataframe\">\n",
       "  <thead>\n",
       "    <tr style=\"text-align: right;\">\n",
       "      <th></th>\n",
       "      <th>code_block</th>\n",
       "      <th>graph_vertex_id</th>\n",
       "    </tr>\n",
       "  </thead>\n",
       "  <tbody>\n",
       "    <tr>\n",
       "      <th>0</th>\n",
       "      <td># My forecasting COVID-19 confirmed cases and ...</td>\n",
       "      <td>45.0</td>\n",
       "    </tr>\n",
       "    <tr>\n",
       "      <th>1</th>\n",
       "      <td># load training and testing data \\nsubm = pd.r...</td>\n",
       "      <td>45.0</td>\n",
       "    </tr>\n",
       "    <tr>\n",
       "      <th>2</th>\n",
       "      <td>subm</td>\n",
       "      <td>41.0</td>\n",
       "    </tr>\n",
       "    <tr>\n",
       "      <th>3</th>\n",
       "      <td># see testing data\\ntest_data</td>\n",
       "      <td>41.0</td>\n",
       "    </tr>\n",
       "    <tr>\n",
       "      <th>4</th>\n",
       "      <td># ...and training data\\ntrain_data</td>\n",
       "      <td>41.0</td>\n",
       "    </tr>\n",
       "  </tbody>\n",
       "</table>\n",
       "</div>"
      ],
      "text/plain": [
       "                                          code_block  graph_vertex_id\n",
       "0  # My forecasting COVID-19 confirmed cases and ...             45.0\n",
       "1  # load training and testing data \\nsubm = pd.r...             45.0\n",
       "2                                               subm             41.0\n",
       "3                      # see testing data\\ntest_data             41.0\n",
       "4                 # ...and training data\\ntrain_data             41.0"
      ]
     },
     "metadata": {},
     "output_type": "display_data"
    },
    {
     "name": "stdout",
     "output_type": "stream",
     "text": [
      "\n",
      "Distribution of graph_vertex_id:\n",
      "graph_vertex_id\n",
      "8.0     538\n",
      "33.0    486\n",
      "45.0    474\n",
      "7.0     465\n",
      "41.0    419\n",
      "       ... \n",
      "15.0      4\n",
      "42.0      4\n",
      "73.0      3\n",
      "31.0      2\n",
      "43.0      1\n",
      "Name: count, Length: 70, dtype: int64\n"
     ]
    },
    {
     "data": {
      "image/png": "[encoded data removed]",
      "text/plain": [
       "<Figure size 1200x600 with 1 Axes>"
      ]
     },
     "metadata": {},
     "output_type": "display_data"
    },
    {
     "name": "stdout",
     "output_type": "stream",
     "text": [
      "\n",
      "Saved selected columns to temporary file: C:\\Users\\LOQ\\AppData\\Local\\Temp\\tmpqgypr6sr.csv\n"
     ]
    }
   ],
   "source": [
    "# Read the original dataset\n",
    "print(f\"Reading original dataset: {ORIGINAL_DATASET_PATH}\")\n",
    "try:\n",
    "    df_original = pd.read_csv(ORIGINAL_DATASET_PATH)\n",
    "    print(\"Successfully read the original dataset.\")\n",
    "    \n",
    "    # Display basic information\n",
    "    print(f\"\\nOriginal dataset shape: {df_original.shape}\")\n",
    "    print(\"\\nColumns in the original dataset:\")\n",
    "    for col in df_original.columns:\n",
    "        print(f\"- {col}\")\n",
    "    \n",
    "    # Select only the required columns\n",
    "    print(\"\\nSelecting only 'code_block' and 'graph_vertex_id' columns...\")\n",
    "    df_selected = df_original[['code_block', 'graph_vertex_id']]\n",
    "    print(f\"Selected dataset shape: {df_selected.shape}\")\n",
    "    \n",
    "    # Display the first few rows\n",
    "    print(\"\\nFirst 5 rows of the selected columns:\")\n",
    "    display(df_selected.head())\n",
    "    \n",
    "    # Check the distribution of graph_vertex_id\n",
    "    print(\"\\nDistribution of graph_vertex_id:\")\n",
    "    vertex_counts = df_selected['graph_vertex_id'].value_counts()\n",
    "    print(vertex_counts)\n",
    "    \n",
    "    # Visualize the distribution\n",
    "    plt.figure(figsize=(12, 6))\n",
    "    sns.barplot(x=vertex_counts.index, y=vertex_counts.values)\n",
    "    plt.title('Distribution of graph_vertex_id')\n",
    "    plt.xlabel('graph_vertex_id')\n",
    "    plt.ylabel('Count')\n",
    "    plt.xticks(rotation=45)\n",
    "    plt.tight_layout()\n",
    "    plt.show()\n",
    "    \n",
    "    # Create a temporary file with the selected columns\n",
    "    temp_file = tempfile.NamedTemporaryFile(delete=False, suffix='.csv')\n",
    "    temp_dataset_path = temp_file.name\n",
    "    temp_file.close()\n",
    "    \n",
    "    # Save the selected columns to the temporary file with semicolon delimiter\n",
    "    df_selected.to_csv(temp_dataset_path, sep=';', index=False)\n",
    "    print(f\"\\nSaved selected columns to temporary file: {temp_dataset_path}\")\n",
    "    \n",
    "    # Set the dataset path for the SVM script\n",
    "    DATASET_PATH = temp_dataset_path\n",
    "    \n",
    "except Exception as e:\n",
    "    print(f\"Error reading the original dataset: {e}\")\n",
    "    print(\"Using a small sample dataset instead.\")\n",
    "    \n",
    "    # Create a small sample dataset\n",
    "    sample_data = '''code_block;graph_vertex_id\n",
    "\"class MyClass:\\n    def __init__(self, name):\\n        self.name = name\";class\n",
    "\"def calculate_sum(a, b):\\n    return a + b\";function\n",
    "\"x = 10\\ny = 20\\nz = x + y\";variable\n",
    "\"for i in range(10):\\n    print(i)\";loop\n",
    "\"if x > 10:\\n    print('Greater')\\nelse:\\n    print('Less or equal')\";condition'''\n",
    "    \n",
    "    # Create a temporary file with the sample data\n",
    "    temp_file = tempfile.NamedTemporaryFile(delete=False, suffix='.csv')\n",
    "    temp_dataset_path = temp_file.name\n",
    "    with open(temp_dataset_path, 'w') as f:\n",
    "        f.write(sample_data)\n",
    "    print(f\"Created sample dataset at: {temp_dataset_path}\")\n",
    "    \n",
    "    # Set the dataset path for the SVM script\n",
    "    DATASET_PATH = temp_dataset_path"
   ]
  },
  {
   "cell_type": "markdown",
   "metadata": {},
   "source": [
    "## 6. Modify the SVM Training Script for Small Datasets"
   ]
  },
  {
   "cell_type": "code",
   "execution_count": 15,
   "metadata": {},
   "outputs": [
    {
     "name": "stdout",
     "output_type": "stream",
     "text": [
      "Created backup of svm_train.py\n",
      "Modified DEFAULT_HYPERPARAMS for small datasets\n",
      "Modified KFold parameters to use fewer splits\n",
      "Saved modified svm_train.py\n"
     ]
    }
   ],
   "source": [
    "# Read the svm_train.py file\n",
    "with open('svm_train.py', 'r') as file:\n",
    "    content = file.read()\n",
    "\n",
    "# Create a backup of the original file\n",
    "with open('svm_train.py.bak', 'w') as backup:\n",
    "    backup.write(content)\n",
    "print(\"Created backup of svm_train.py\")\n",
    "\n",
    "# 1. Fix the DEFAULT_HYPERPARAMS section for small datasets\n",
    "if 'DEFAULT_HYPERPARAMS' in content:\n",
    "    pattern = r'DEFAULT_HYPERPARAMS = \\{[^\\}]*\\}'\n",
    "    new_params = '''DEFAULT_HYPERPARAMS = {\n",
    "    \"svm__C\": 1.0,\n",
    "    \"tfidf__min_df\": 1,  # Minimum document frequency set to 1 for small datasets\n",
    "    \"tfidf__max_df\": 1.0,  # Maximum document frequency set to 100% for small datasets\n",
    "    \"svm__kernel\": \"linear\",\n",
    "    \"tfidf__smooth_idf\": True,\n",
    "    \"svm__random_state\": RANDOM_STATE,\n",
    "    \"svm__max_iter\": MAX_ITER,\n",
    "}'''\n",
    "    content = re.sub(pattern, new_params, content)\n",
    "    print(\"Modified DEFAULT_HYPERPARAMS for small datasets\")\n",
    "\n",
    "# 2. Fix the KFold parameters to use fewer splits than the number of samples\n",
    "kfold_pattern = r'kfold_params = \\{[^\\}]*\\}'\n",
    "new_kfold = '''kfold_params = {\n",
    "        \"n_splits\": 2,  # Reduced from 10 to work with small datasets\n",
    "        \"random_state\": RANDOM_STATE,\n",
    "        \"shuffle\": True,\n",
    "    }'''\n",
    "content = re.sub(kfold_pattern, new_kfold, content)\n",
    "print(\"Modified KFold parameters to use fewer splits\")\n",
    "\n",
    "# Write the modified content back to the file\n",
    "with open('svm_train.py', 'w') as file:\n",
    "    file.write(content)\n",
    "print(\"Saved modified svm_train.py\")"
   ]
  },
  {
   "cell_type": "markdown",
   "metadata": {},
   "source": [
    "## 7. Run the SVM Training Script"
   ]
  },
  {
   "cell_type": "code",
   "execution_count": 16,
   "metadata": {},
   "outputs": [
    {
     "name": "stdout",
     "output_type": "stream",
     "text": [
      "Running command: d:\\A_Z_NLP\\End-To-End-Project\\GEN_AI_Projects\\finalenv\\python.exe svm_train.py 1 C:\\Users\\LOQ\\AppData\\Local\\Temp\\tmpqgypr6sr.csv 0\n",
      "\n",
      "Output:\n",
      "vertices parsed: ['class', 'function', 'variable', 'loop', 'condition']\n",
      "Index(['code_block', 'graph_vertex_id'], dtype='object')\n",
      "loaded\n",
      "selecting hyperparameters\n",
      "A new study created in memory with name: svm with kernels\n",
      "hyperparams: \n",
      "tfidf {'smooth_idf': True, 'min_df': 1, 'max_df': 1.0} \n",
      "model {'random_state': 42, 'max_iter': 10000, 'C': 1.0, 'kernel': 'linear'}\n",
      "metrics: {'test_f1_score': np.float64(0.6212791617026207), 'test_accuracy': np.float64(0.6328735033836543), 'test_f1_std': np.float64(0.004864596639768903), 'test_accuracy_std': np.float64(0.004815200416449783)}\n",
      "finished\n",
      "\n",
      "\n",
      "Errors:\n",
      "[I 2025-05-06 02:28:54,418] A new study created in memory with name: svm with kernels\n",
      "\n"
     ]
    }
   ],
   "source": [
    "# Run the script using subprocess\n",
    "cmd = [sys.executable, \"svm_train.py\", GRAPH_VER, DATASET_PATH, str(N_TRIALS)]\n",
    "print(\"Running command:\", \" \".join(cmd))\n",
    "\n",
    "try:\n",
    "    result = subprocess.run(cmd, check=True, capture_output=True, text=True)\n",
    "    print(\"\\nOutput:\")\n",
    "    print(result.stdout)\n",
    "    \n",
    "    if result.stderr:\n",
    "        print(\"\\nErrors:\")\n",
    "        print(result.stderr)\n",
    "except subprocess.CalledProcessError as e:\n",
    "    print(\"\\nError running the script:\")\n",
    "    print(e.stderr)"
   ]
  },
  {
   "cell_type": "markdown",
   "metadata": {},
   "source": [
    "## 8. Check if the Model Files Were Created"
   ]
  },
  {
   "cell_type": "code",
   "execution_count": 17,
   "metadata": {},
   "outputs": [
    {
     "name": "stdout",
     "output_type": "stream",
     "text": [
      "Checking if model file exists: ../models/svm_linear_search_graph_v1.sav\n",
      "Exists: True\n",
      "\n",
      "Checking if TF-IDF file exists: ../models/tfidf_hyper_svm_graph_v1.pickle\n",
      "Exists: True\n",
      "\n",
      "Listing files in the models directory:\n",
      "- svm_linear_search_graph_v1.sav (Size: 8421.08 KB)\n",
      "- tfidf_hyper_svm_graph_v1.pickle (Size: 314.85 KB)\n"
     ]
    }
   ],
   "source": [
    "# Check if the model files were created\n",
    "print(f\"Checking if model file exists: {MODEL_DIR}\")\n",
    "print(f\"Exists: {os.path.exists(MODEL_DIR)}\")\n",
    "\n",
    "print(f\"\\nChecking if TF-IDF file exists: {TFIDF_DIR}\")\n",
    "print(f\"Exists: {os.path.exists(TFIDF_DIR)}\")\n",
    "\n",
    "# List files in the models directory\n",
    "print(\"\\nListing files in the models directory:\")\n",
    "if os.path.exists(\"../models\"):\n",
    "    model_files = os.listdir(\"../models\")\n",
    "    for file in model_files:\n",
    "        file_path = os.path.join(\"../models\", file)\n",
    "        file_size = os.path.getsize(file_path) / 1024  # Size in KB\n",
    "        print(f\"- {file} (Size: {file_size:.2f} KB)\")\n",
    "else:\n",
    "    print(\"Models directory does not exist.\")"
   ]
  },
  {
   "cell_type": "markdown",
   "metadata": {},
   "source": [
    "## 9. Summary\n",
    "\n",
    "This notebook has:\n",
    "1. Read the original markup_data.csv file\n",
    "2. Selected only the 'code_block' and 'graph_vertex_id' columns during runtime\n",
    "3. Created a temporary file with the selected columns\n",
    "4. Modified the SVM training script for the dataset\n",
    "5. Run the SVM training script on the selected columns\n",
    "6. Verified that the model files were created\n",
    "7. Cleaned up temporary files\n",
    "\n",
    "The trained model can now be used for predictions."
   ]
  },
  {
   "cell_type": "markdown",
   "metadata": {},
   "source": []
  }
 ],
 "metadata": {
  "kernelspec": {
   "display_name": "finalenv",
   "language": "python",
   "name": "python3"
  },
  "language_info": {
   "codemirror_mode": {
    "name": "ipython",
    "version": 3
   },
   "file_extension": ".py",
   "mimetype": "text/x-python",
   "name": "python",
   "nbconvert_exporter": "python",
   "pygments_lexer": "ipython3",
   "version": "3.13.2"
  }
 },
 "nbformat": 4,
 "nbformat_minor": 4
}
